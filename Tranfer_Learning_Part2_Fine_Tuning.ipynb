{
  "nbformat": 4,
  "nbformat_minor": 0,
  "metadata": {
    "colab": {
      "provenance": [],
      "authorship_tag": "ABX9TyNyW8kpyVRskzUk9sAL76u9",
      "include_colab_link": true
    },
    "kernelspec": {
      "name": "python3",
      "display_name": "Python 3"
    },
    "language_info": {
      "name": "python"
    },
    "accelerator": "GPU",
    "gpuClass": "standard"
  },
  "cells": [
    {
      "cell_type": "markdown",
      "metadata": {
        "id": "view-in-github",
        "colab_type": "text"
      },
      "source": [
        "<a href=\"https://colab.research.google.com/github/HkgCory/Neural_Network_Classification/blob/main/Tranfer_Learning_Part2_Fine_Tuning.ipynb\" target=\"_parent\"><img src=\"https://colab.research.google.com/assets/colab-badge.svg\" alt=\"Open In Colab\"/></a>"
      ]
    },
    {
      "cell_type": "code",
      "execution_count": null,
      "metadata": {
        "colab": {
          "base_uri": "https://localhost:8080/"
        },
        "id": "wXsJjnKcXOPp",
        "outputId": "11ae7986-bbcd-4360-c046-a25ccd09121f"
      },
      "outputs": [
        {
          "output_type": "stream",
          "name": "stdout",
          "text": [
            "--2023-04-14 01:29:06--  https://raw.githubusercontent.com/mrdbourke/tensorflow-deep-learning/main/extras/helper_functions.py\n",
            "Resolving raw.githubusercontent.com (raw.githubusercontent.com)... 185.199.108.133, 185.199.109.133, 185.199.111.133, ...\n",
            "Connecting to raw.githubusercontent.com (raw.githubusercontent.com)|185.199.108.133|:443... connected.\n",
            "HTTP request sent, awaiting response... 200 OK\n",
            "Length: 10246 (10K) [text/plain]\n",
            "Saving to: ‘helper_functions.py’\n",
            "\n",
            "helper_functions.py 100%[===================>]  10.01K  --.-KB/s    in 0s      \n",
            "\n",
            "2023-04-14 01:29:06 (107 MB/s) - ‘helper_functions.py’ saved [10246/10246]\n",
            "\n"
          ]
        }
      ],
      "source": [
        "!wget https://raw.githubusercontent.com/mrdbourke/tensorflow-deep-learning/main/extras/helper_functions.py\n"
      ]
    },
    {
      "cell_type": "code",
      "source": [
        "from helper_functions import create_tensorboard_callback, plot_loss_curves, unzip_data,walk_through_dir"
      ],
      "metadata": {
        "id": "xJhkAxBzYX8U"
      },
      "execution_count": null,
      "outputs": []
    },
    {
      "cell_type": "code",
      "source": [
        "!wget https://storage.googleapis.com/ztm_tf_course/food_vision/10_food_classes_10_percent.zip\n",
        "\n",
        "unzip_data('10_food_classes_10_percent.zip')"
      ],
      "metadata": {
        "colab": {
          "base_uri": "https://localhost:8080/"
        },
        "id": "5KPGaMy4YYyQ",
        "outputId": "736e31bb-5e7c-4821-8f97-b2af446be5d2"
      },
      "execution_count": null,
      "outputs": [
        {
          "output_type": "stream",
          "name": "stdout",
          "text": [
            "--2023-04-14 01:39:37--  https://storage.googleapis.com/ztm_tf_course/food_vision/10_food_classes_10_percent.zip\n",
            "Resolving storage.googleapis.com (storage.googleapis.com)... 142.250.136.128, 142.250.148.128, 209.85.234.128, ...\n",
            "Connecting to storage.googleapis.com (storage.googleapis.com)|142.250.136.128|:443... connected.\n",
            "HTTP request sent, awaiting response... 200 OK\n",
            "Length: 168546183 (161M) [application/zip]\n",
            "Saving to: ‘10_food_classes_10_percent.zip.1’\n",
            "\n",
            "10_food_classes_10_ 100%[===================>] 160.74M  93.4MB/s    in 1.7s    \n",
            "\n",
            "2023-04-14 01:39:39 (93.4 MB/s) - ‘10_food_classes_10_percent.zip.1’ saved [168546183/168546183]\n",
            "\n"
          ]
        }
      ]
    },
    {
      "cell_type": "code",
      "source": [
        "walk_through_dir('10_food_classes_10_percent')"
      ],
      "metadata": {
        "colab": {
          "base_uri": "https://localhost:8080/"
        },
        "id": "4NN8PgWWYY0j",
        "outputId": "25cb6e93-68a2-47d8-c544-0d6aa2ba3372"
      },
      "execution_count": null,
      "outputs": [
        {
          "output_type": "stream",
          "name": "stdout",
          "text": [
            "There are 2 directories and 0 images in '10_food_classes_10_percent'.\n",
            "There are 10 directories and 0 images in '10_food_classes_10_percent/train'.\n",
            "There are 0 directories and 75 images in '10_food_classes_10_percent/train/ice_cream'.\n",
            "There are 0 directories and 75 images in '10_food_classes_10_percent/train/ramen'.\n",
            "There are 0 directories and 75 images in '10_food_classes_10_percent/train/steak'.\n",
            "There are 0 directories and 75 images in '10_food_classes_10_percent/train/chicken_curry'.\n",
            "There are 0 directories and 75 images in '10_food_classes_10_percent/train/chicken_wings'.\n",
            "There are 0 directories and 75 images in '10_food_classes_10_percent/train/pizza'.\n",
            "There are 0 directories and 75 images in '10_food_classes_10_percent/train/fried_rice'.\n",
            "There are 0 directories and 75 images in '10_food_classes_10_percent/train/hamburger'.\n",
            "There are 0 directories and 75 images in '10_food_classes_10_percent/train/grilled_salmon'.\n",
            "There are 0 directories and 75 images in '10_food_classes_10_percent/train/sushi'.\n",
            "There are 10 directories and 0 images in '10_food_classes_10_percent/test'.\n",
            "There are 0 directories and 250 images in '10_food_classes_10_percent/test/ice_cream'.\n",
            "There are 0 directories and 250 images in '10_food_classes_10_percent/test/ramen'.\n",
            "There are 0 directories and 250 images in '10_food_classes_10_percent/test/steak'.\n",
            "There are 0 directories and 250 images in '10_food_classes_10_percent/test/chicken_curry'.\n",
            "There are 0 directories and 250 images in '10_food_classes_10_percent/test/chicken_wings'.\n",
            "There are 0 directories and 250 images in '10_food_classes_10_percent/test/pizza'.\n",
            "There are 0 directories and 250 images in '10_food_classes_10_percent/test/fried_rice'.\n",
            "There are 0 directories and 250 images in '10_food_classes_10_percent/test/hamburger'.\n",
            "There are 0 directories and 250 images in '10_food_classes_10_percent/test/grilled_salmon'.\n",
            "There are 0 directories and 250 images in '10_food_classes_10_percent/test/sushi'.\n"
          ]
        }
      ]
    },
    {
      "cell_type": "code",
      "source": [
        "train_dir = '10_food_classes_10_percent/train'\n",
        "test_dir = '10_food_classes_10_percent/test'"
      ],
      "metadata": {
        "id": "4yEbb-0RYZOm"
      },
      "execution_count": null,
      "outputs": []
    },
    {
      "cell_type": "code",
      "source": [
        "import tensorflow as tf\n",
        "IMG_SIZE = (224,224)\n",
        "BATCH_SIZE = 32\n",
        "\n",
        "train_data_10_percent = tf.keras.utils.image_dataset_from_directory(directory=train_dir,\n",
        "                                                                    image_size=IMG_SIZE,\n",
        "                                                                    label_mode='categorical',\n",
        "                                                                    batch_size=BATCH_SIZE)\n",
        "\n",
        "test_data = tf.keras.preprocessing.image_dataset_from_directory(directory=test_dir,\n",
        "                                                                image_size=IMG_SIZE,\n",
        "                                                                label_mode='categorical',\n",
        "                                                                batch_size = BATCH_SIZE)"
      ],
      "metadata": {
        "colab": {
          "base_uri": "https://localhost:8080/"
        },
        "id": "jvJv3SCEYZQr",
        "outputId": "c5704635-d806-425f-cdad-a2fb33d161b6"
      },
      "execution_count": null,
      "outputs": [
        {
          "output_type": "stream",
          "name": "stdout",
          "text": [
            "Found 750 files belonging to 10 classes.\n",
            "Found 2500 files belonging to 10 classes.\n"
          ]
        }
      ]
    },
    {
      "cell_type": "code",
      "source": [
        "train_data_10_percent"
      ],
      "metadata": {
        "colab": {
          "base_uri": "https://localhost:8080/"
        },
        "id": "sEzr-GIbYZTH",
        "outputId": "6c5f50ba-4441-4900-aa49-66418db160f2"
      },
      "execution_count": null,
      "outputs": [
        {
          "output_type": "execute_result",
          "data": {
            "text/plain": [
              "<_BatchDataset element_spec=(TensorSpec(shape=(None, 224, 224, 3), dtype=tf.float32, name=None), TensorSpec(shape=(None, 10), dtype=tf.float32, name=None))>"
            ]
          },
          "metadata": {},
          "execution_count": 12
        }
      ]
    },
    {
      "cell_type": "code",
      "source": [
        "train_data_10_percent.class_names"
      ],
      "metadata": {
        "colab": {
          "base_uri": "https://localhost:8080/"
        },
        "id": "BTqiIXj6YZVX",
        "outputId": "873a4d0c-8447-4e0b-987d-e3d881a8e104"
      },
      "execution_count": null,
      "outputs": [
        {
          "output_type": "execute_result",
          "data": {
            "text/plain": [
              "['chicken_curry',\n",
              " 'chicken_wings',\n",
              " 'fried_rice',\n",
              " 'grilled_salmon',\n",
              " 'hamburger',\n",
              " 'ice_cream',\n",
              " 'pizza',\n",
              " 'ramen',\n",
              " 'steak',\n",
              " 'sushi']"
            ]
          },
          "metadata": {},
          "execution_count": 13
        }
      ]
    },
    {
      "cell_type": "code",
      "source": [
        "for images, labels in train_data_10_percent.take(1):\n",
        "  print(images, labels)"
      ],
      "metadata": {
        "colab": {
          "base_uri": "https://localhost:8080/"
        },
        "id": "B5WalLUyYZX-",
        "outputId": "af3935d3-024a-4648-e99c-a6b02cb510d5"
      },
      "execution_count": null,
      "outputs": [
        {
          "output_type": "stream",
          "name": "stdout",
          "text": [
            "tf.Tensor(\n",
            "[[[[3.46428566e+01 5.56428566e+01 7.26428604e+01]\n",
            "   [3.41428566e+01 5.31428566e+01 7.01428528e+01]\n",
            "   [3.22908173e+01 4.93571434e+01 6.45816345e+01]\n",
            "   ...\n",
            "   [1.40050945e+01 1.40050945e+01 6.00509453e+00]\n",
            "   [1.29081593e+01 1.29081593e+01 4.90815973e+00]\n",
            "   [1.20000000e+01 1.20000000e+01 4.00000000e+00]]\n",
            "\n",
            "  [[3.37857132e+01 5.27857132e+01 6.97857208e+01]\n",
            "   [3.40102043e+01 5.30102043e+01 6.80102005e+01]\n",
            "   [3.50714302e+01 5.22857170e+01 6.78571472e+01]\n",
            "   ...\n",
            "   [1.58724689e+01 1.58724689e+01 7.87246895e+00]\n",
            "   [1.48571167e+01 1.48571167e+01 6.85711670e+00]\n",
            "   [1.13111572e+01 1.13111572e+01 3.31115723e+00]]\n",
            "\n",
            "  [[3.66428566e+01 5.54285698e+01 7.02142868e+01]\n",
            "   [3.53418350e+01 5.41275482e+01 6.89132614e+01]\n",
            "   [3.40459175e+01 5.16428604e+01 6.69234695e+01]\n",
            "   ...\n",
            "   [1.58316498e+01 1.58316498e+01 7.83164978e+00]\n",
            "   [1.57704048e+01 1.57704048e+01 7.77040529e+00]\n",
            "   [1.45050745e+01 1.45050745e+01 6.50507450e+00]]\n",
            "\n",
            "  ...\n",
            "\n",
            "  [[1.00000000e+00 1.00000000e+00 1.00000000e+00]\n",
            "   [1.00000000e+00 1.00000000e+00 1.00000000e+00]\n",
            "   [1.00000000e+00 1.00000000e+00 1.00000000e+00]\n",
            "   ...\n",
            "   [1.00000000e+00 1.00000000e+00 1.00000000e+00]\n",
            "   [1.00000000e+00 1.00000000e+00 1.00000000e+00]\n",
            "   [1.00000000e+00 1.00000000e+00 1.00000000e+00]]\n",
            "\n",
            "  [[1.00000000e+00 1.00000000e+00 1.00000000e+00]\n",
            "   [1.00000000e+00 1.00000000e+00 1.00000000e+00]\n",
            "   [1.00000000e+00 1.00000000e+00 1.00000000e+00]\n",
            "   ...\n",
            "   [1.00000000e+00 1.00000000e+00 1.00000000e+00]\n",
            "   [1.00000000e+00 1.00000000e+00 1.00000000e+00]\n",
            "   [1.00000000e+00 1.00000000e+00 1.00000000e+00]]\n",
            "\n",
            "  [[1.00000000e+00 1.00000000e+00 1.00000000e+00]\n",
            "   [1.00000000e+00 1.00000000e+00 1.00000000e+00]\n",
            "   [1.00000000e+00 1.00000000e+00 1.00000000e+00]\n",
            "   ...\n",
            "   [1.00000000e+00 1.00000000e+00 1.00000000e+00]\n",
            "   [1.00000000e+00 1.00000000e+00 1.00000000e+00]\n",
            "   [1.00000000e+00 1.00000000e+00 1.00000000e+00]]]\n",
            "\n",
            "\n",
            " [[[1.89379303e+02 1.36379303e+02 3.03793049e+01]\n",
            "   [1.82899078e+02 1.29899078e+02 2.38990746e+01]\n",
            "   [1.87197861e+02 1.36197861e+02 2.71978645e+01]\n",
            "   ...\n",
            "   [2.18333237e+02 1.37904709e+02 1.40236807e+01]\n",
            "   [2.13857117e+02 1.33857117e+02 1.08571167e+01]\n",
            "   [2.12714355e+02 1.32714355e+02 1.17143555e+01]]\n",
            "\n",
            "  [[1.82503036e+02 1.29503036e+02 2.52307091e+01]\n",
            "   [1.82468109e+02 1.29468109e+02 2.34681129e+01]\n",
            "   [1.87435593e+02 1.34893021e+02 2.79292088e+01]\n",
            "   ...\n",
            "   [2.17399353e+02 1.37649582e+02 1.11069870e+01]\n",
            "   [2.14844391e+02 1.34844391e+02 1.01167059e+01]\n",
            "   [2.14688782e+02 1.34688782e+02 1.19611063e+01]]\n",
            "\n",
            "  [[1.84403214e+02 1.31842957e+02 2.87224159e+01]\n",
            "   [1.88825745e+02 1.36673798e+02 3.12877884e+01]\n",
            "   [1.89011642e+02 1.36011642e+02 3.08911037e+01]\n",
            "   ...\n",
            "   [2.19082520e+02 1.39533951e+02 9.77453232e+00]\n",
            "   [2.18950912e+02 1.39910873e+02 1.21742983e+01]\n",
            "   [2.19879471e+02 1.40319199e+02 1.44397316e+01]]\n",
            "\n",
            "  ...\n",
            "\n",
            "  [[2.19640717e+02 1.95640717e+02 1.60920395e+02]\n",
            "   [2.16872192e+02 1.92872192e+02 1.54935013e+02]\n",
            "   [2.14931580e+02 1.91931580e+02 1.50037018e+02]\n",
            "   ...\n",
            "   [8.82250519e+01 7.90107880e+01 2.00107861e+01]\n",
            "   [9.01453857e+01 8.11053619e+01 2.53687267e+01]\n",
            "   [8.78305664e+01 7.78305664e+01 2.82651939e+01]]\n",
            "\n",
            "  [[2.22432632e+02 1.96432632e+02 1.61257599e+02]\n",
            "   [2.19605011e+02 1.93731430e+02 1.56352188e+02]\n",
            "   [2.19107315e+02 1.96107315e+02 1.53737106e+02]\n",
            "   ...\n",
            "   [8.39419861e+01 7.47568893e+01 1.60291691e+01]\n",
            "   [8.88503723e+01 7.97789307e+01 2.49412651e+01]\n",
            "   [8.33826981e+01 7.52076721e+01 2.68247757e+01]]\n",
            "\n",
            "  [[2.16895309e+02 1.92777115e+02 1.53897552e+02]\n",
            "   [2.17116669e+02 1.93520172e+02 1.52869843e+02]\n",
            "   [2.17767395e+02 1.94767395e+02 1.52767395e+02]\n",
            "   ...\n",
            "   [8.45029373e+01 7.55029373e+01 1.99270077e+01]\n",
            "   [8.92565460e+01 7.95239334e+01 2.60302963e+01]\n",
            "   [8.89173584e+01 7.91230698e+01 2.86989937e+01]]]\n",
            "\n",
            "\n",
            " [[[2.51556122e+02 2.33183670e+02 1.92642853e+02]\n",
            "   [1.43596924e+02 1.15811203e+02 7.67397766e+01]\n",
            "   [1.61882660e+02 1.23454086e+02 8.76683655e+01]\n",
            "   ...\n",
            "   [3.81071968e+01 1.73214607e+01 1.67499886e+01]\n",
            "   [4.15560799e+01 1.75560799e+01 1.75560799e+01]\n",
            "   [3.96786232e+01 1.36786232e+01 1.46786232e+01]]\n",
            "\n",
            "  [[2.53806122e+02 2.33846939e+02 1.97750000e+02]\n",
            "   [2.12826538e+02 1.84239807e+02 1.49892868e+02]\n",
            "   [1.46714279e+02 1.09642853e+02 7.64693756e+01]\n",
            "   ...\n",
            "   [3.62651863e+01 1.54794483e+01 1.49079762e+01]\n",
            "   [4.03367691e+01 1.63367691e+01 1.63367691e+01]\n",
            "   [4.48775826e+01 1.88775826e+01 1.98775826e+01]]\n",
            "\n",
            "  [[2.29413254e+02 2.08413254e+02 1.77841827e+02]\n",
            "   [2.40071426e+02 2.13198975e+02 1.83841827e+02]\n",
            "   [1.10127541e+02 7.60357056e+01 4.82959137e+01]\n",
            "   ...\n",
            "   [4.03571854e+01 1.83571854e+01 2.03571854e+01]\n",
            "   [4.66734352e+01 2.31020069e+01 2.35305786e+01]\n",
            "   [4.31684036e+01 1.95969772e+01 2.00255489e+01]]\n",
            "\n",
            "  ...\n",
            "\n",
            "  [[0.00000000e+00 3.00000000e+00 0.00000000e+00]\n",
            "   [0.00000000e+00 3.00000000e+00 0.00000000e+00]\n",
            "   [0.00000000e+00 2.78571415e+00 0.00000000e+00]\n",
            "   ...\n",
            "   [2.28365574e+01 7.02541065e+00 3.81114674e+00]\n",
            "   [2.69998169e+01 8.35702515e+00 6.14276123e+00]\n",
            "   [3.07906418e+01 1.05763779e+01 9.14785004e+00]]\n",
            "\n",
            "  [[0.00000000e+00 3.00000000e+00 0.00000000e+00]\n",
            "   [0.00000000e+00 3.00000000e+00 0.00000000e+00]\n",
            "   [0.00000000e+00 2.78571415e+00 0.00000000e+00]\n",
            "   ...\n",
            "   [9.58671856e+00 3.41839850e-01 0.00000000e+00]\n",
            "   [1.09897919e+01 1.14798725e+00 5.10390941e-03]\n",
            "   [1.28775234e+01 3.09695911e+00 1.04592431e+00]]\n",
            "\n",
            "  [[0.00000000e+00 3.00000000e+00 0.00000000e+00]\n",
            "   [0.00000000e+00 3.00000000e+00 0.00000000e+00]\n",
            "   [0.00000000e+00 2.78571415e+00 0.00000000e+00]\n",
            "   ...\n",
            "   [5.06638336e+00 1.29597449e+00 3.57177734e-01]\n",
            "   [7.38269520e+00 2.18889904e+00 1.69394851e+00]\n",
            "   [9.48475361e+00 5.07153320e+00 2.07153320e+00]]]\n",
            "\n",
            "\n",
            " ...\n",
            "\n",
            "\n",
            " [[[4.35011139e+01 7.82198715e+01 7.19787979e+01]\n",
            "   [4.48158493e+01 7.94040146e+01 7.52433014e+01]\n",
            "   [4.74520073e+01 7.92075882e+01 7.85691986e+01]\n",
            "   ...\n",
            "   [1.45043503e+02 1.53257767e+02 1.37829239e+02]\n",
            "   [1.45143951e+02 1.56143951e+02 1.42143951e+02]\n",
            "   [1.35776596e+02 1.46776596e+02 1.32776596e+02]]\n",
            "\n",
            "  [[4.76026764e+01 7.84933014e+01 6.81272278e+01]\n",
            "   [4.92299118e+01 8.04274597e+01 7.31752243e+01]\n",
            "   [4.94609375e+01 8.06104889e+01 7.68973236e+01]\n",
            "   ...\n",
            "   [1.43156250e+02 1.51370514e+02 1.35941986e+02]\n",
            "   [1.38706436e+02 1.49706436e+02 1.35706436e+02]\n",
            "   [1.34893951e+02 1.45893951e+02 1.31893951e+02]]\n",
            "\n",
            "  [[4.70725441e+01 7.24609375e+01 5.37901764e+01]\n",
            "   [4.89397354e+01 7.67299118e+01 6.29709816e+01]\n",
            "   [4.60178566e+01 7.46305771e+01 6.49910736e+01]\n",
            "   ...\n",
            "   [1.42000000e+02 1.50214264e+02 1.34785736e+02]\n",
            "   [1.36610474e+02 1.47610474e+02 1.33610474e+02]\n",
            "   [1.34809158e+02 1.45809158e+02 1.31809158e+02]]\n",
            "\n",
            "  ...\n",
            "\n",
            "  [[1.80915177e+00 3.69977689e+00 7.40290165e+00]\n",
            "   [5.02230227e-02 1.66517830e+00 4.77455330e+00]\n",
            "   [0.00000000e+00 1.06361616e+00 4.17299128e+00]\n",
            "   ...\n",
            "   [2.08532364e+02 2.05829239e+02 1.89422989e+02]\n",
            "   [2.07468750e+02 2.04765625e+02 1.88359375e+02]\n",
            "   [2.06468750e+02 2.03765625e+02 1.87359375e+02]]\n",
            "\n",
            "  [[9.85490978e-01 4.98549128e+00 7.24218750e+00]\n",
            "   [0.00000000e+00 2.49330330e+00 3.49330330e+00]\n",
            "   [0.00000000e+00 1.09040189e+00 9.34151888e-01]\n",
            "   ...\n",
            "   [2.47340393e+02 2.47074768e+02 2.33809143e+02]\n",
            "   [2.46828125e+02 2.46562500e+02 2.33296875e+02]\n",
            "   [2.45828125e+02 2.46140625e+02 2.32296875e+02]]\n",
            "\n",
            "  [[1.88058007e+00 5.88057995e+00 5.87611580e+00]\n",
            "   [0.00000000e+00 2.07142830e+00 1.35267830e+00]\n",
            "   [0.00000000e+00 2.22767878e+00 0.00000000e+00]\n",
            "   ...\n",
            "   [2.46265625e+02 2.51562500e+02 2.39562500e+02]\n",
            "   [2.46265625e+02 2.51562500e+02 2.39562500e+02]\n",
            "   [2.46125000e+02 2.51562500e+02 2.39421875e+02]]]\n",
            "\n",
            "\n",
            " [[[1.52729599e+02 9.17295914e+01 7.07295914e+01]\n",
            "   [1.49591827e+02 8.85918350e+01 6.75918350e+01]\n",
            "   [1.51071426e+02 9.00714264e+01 6.90714264e+01]\n",
            "   ...\n",
            "   [1.77040749e+01 2.07040749e+01 2.57040749e+01]\n",
            "   [1.42142725e+01 1.82397881e+01 1.90203590e+01]\n",
            "   [1.32551270e+01 1.82551270e+01 1.35407715e+01]]\n",
            "\n",
            "  [[1.54214279e+02 9.22142868e+01 6.92142868e+01]\n",
            "   [1.51081635e+02 8.90816269e+01 6.60816269e+01]\n",
            "   [1.53000000e+02 9.10000000e+01 6.80000000e+01]\n",
            "   ...\n",
            "   [2.97142658e+01 3.47142639e+01 3.87142639e+01]\n",
            "   [2.92142620e+01 3.43520279e+01 3.69285202e+01]\n",
            "   [2.24539814e+01 2.84539814e+01 2.56477947e+01]]\n",
            "\n",
            "  [[1.55647964e+02 9.04336700e+01 6.84336700e+01]\n",
            "   [1.57658173e+02 9.24438782e+01 7.04438782e+01]\n",
            "   [1.55617355e+02 9.04030609e+01 6.84030609e+01]\n",
            "   ...\n",
            "   [3.51173439e+01 4.35459137e+01 4.62857132e+01]\n",
            "   [3.33418198e+01 4.17703934e+01 4.37703934e+01]\n",
            "   [2.93622189e+01 3.80714302e+01 3.91529732e+01]]\n",
            "\n",
            "  ...\n",
            "\n",
            "  [[2.28000000e+02 1.92000000e+02 1.58561234e+02]\n",
            "   [2.28928574e+02 1.92928574e+02 1.57071426e+02]\n",
            "   [2.29382629e+02 1.93765274e+02 1.57000000e+02]\n",
            "   ...\n",
            "   [2.10857056e+02 1.94857056e+02 1.69857056e+02]\n",
            "   [2.07484665e+02 1.91484665e+02 1.66484665e+02]\n",
            "   [2.09076523e+02 1.93076523e+02 1.68076523e+02]]\n",
            "\n",
            "  [[2.27000000e+02 1.90596924e+02 1.59806137e+02]\n",
            "   [2.27994904e+02 1.91994904e+02 1.58270432e+02]\n",
            "   [2.29000000e+02 1.93000000e+02 1.57142883e+02]\n",
            "   ...\n",
            "   [2.08714355e+02 1.92714355e+02 1.67714355e+02]\n",
            "   [2.10000000e+02 1.94000000e+02 1.69000000e+02]\n",
            "   [2.06357086e+02 1.90357086e+02 1.65357086e+02]]\n",
            "\n",
            "  [[2.27000000e+02 1.90000000e+02 1.61000000e+02]\n",
            "   [2.27928574e+02 1.91525482e+02 1.60734756e+02]\n",
            "   [2.28214279e+02 1.92214279e+02 1.58775558e+02]\n",
            "   ...\n",
            "   [2.09081528e+02 1.93081528e+02 1.68081528e+02]\n",
            "   [2.07596802e+02 1.91596802e+02 1.66596802e+02]\n",
            "   [2.07183624e+02 1.91183624e+02 1.66183624e+02]]]\n",
            "\n",
            "\n",
            " [[[1.43443878e+02 1.31443878e+02 1.05443878e+02]\n",
            "   [1.72581635e+02 1.60581635e+02 1.34581635e+02]\n",
            "   [1.74127548e+02 1.62127548e+02 1.36556122e+02]\n",
            "   ...\n",
            "   [1.72071381e+02 1.57071381e+02 1.35642853e+02]\n",
            "   [1.68663269e+02 1.53663269e+02 1.32663269e+02]\n",
            "   [1.70051056e+02 1.55051056e+02 1.36051056e+02]]\n",
            "\n",
            "  [[1.91994888e+02 1.79994888e+02 1.53994888e+02]\n",
            "   [1.65270401e+02 1.53270401e+02 1.27270401e+02]\n",
            "   [1.71474487e+02 1.59474487e+02 1.33474487e+02]\n",
            "   ...\n",
            "   [1.75617371e+02 1.60617371e+02 1.39617371e+02]\n",
            "   [1.70280670e+02 1.55280670e+02 1.34280670e+02]\n",
            "   [1.68453842e+02 1.53453842e+02 1.32453842e+02]]\n",
            "\n",
            "  [[1.65321426e+02 1.53321426e+02 1.27321426e+02]\n",
            "   [1.75642868e+02 1.63642868e+02 1.37642868e+02]\n",
            "   [1.71474487e+02 1.59520401e+02 1.33428574e+02]\n",
            "   ...\n",
            "   [1.72301056e+02 1.57301056e+02 1.36301056e+02]\n",
            "   [1.71357162e+02 1.56357162e+02 1.35357162e+02]\n",
            "   [1.71790726e+02 1.56790726e+02 1.35790726e+02]]\n",
            "\n",
            "  ...\n",
            "\n",
            "  [[1.57280731e+02 1.36923523e+02 1.15709259e+02]\n",
            "   [1.55683701e+02 1.35326492e+02 1.13683701e+02]\n",
            "   [1.53020401e+02 1.33448929e+02 1.09448929e+02]\n",
            "   ...\n",
            "   [1.53260178e+02 1.36260178e+02 1.16260170e+02]\n",
            "   [1.52474518e+02 1.37474518e+02 1.16474510e+02]\n",
            "   [1.52484772e+02 1.37484772e+02 1.16484764e+02]]\n",
            "\n",
            "  [[1.50479630e+02 1.27479630e+02 1.09479630e+02]\n",
            "   [1.55933685e+02 1.33933685e+02 1.12933693e+02]\n",
            "   [1.51857117e+02 1.29857117e+02 1.08428543e+02]\n",
            "   ...\n",
            "   [1.51729599e+02 1.34729599e+02 1.14729599e+02]\n",
            "   [1.53438675e+02 1.38438675e+02 1.17438675e+02]\n",
            "   [1.51663406e+02 1.36663406e+02 1.15663414e+02]]\n",
            "\n",
            "  [[1.56953903e+02 1.30953903e+02 1.13953911e+02]\n",
            "   [1.58040741e+02 1.33040741e+02 1.13040741e+02]\n",
            "   [1.58214569e+02 1.33214569e+02 1.12785995e+02]\n",
            "   ...\n",
            "   [1.52571442e+02 1.35571442e+02 1.15571442e+02]\n",
            "   [1.46887772e+02 1.31887772e+02 1.10887772e+02]\n",
            "   [1.52816376e+02 1.37816376e+02 1.16816383e+02]]]], shape=(32, 224, 224, 3), dtype=float32) tf.Tensor(\n",
            "[[0. 0. 0. 0. 0. 0. 0. 0. 0. 1.]\n",
            " [0. 0. 0. 0. 1. 0. 0. 0. 0. 0.]\n",
            " [0. 0. 0. 0. 1. 0. 0. 0. 0. 0.]\n",
            " [0. 0. 0. 0. 0. 0. 0. 0. 1. 0.]\n",
            " [1. 0. 0. 0. 0. 0. 0. 0. 0. 0.]\n",
            " [0. 0. 0. 0. 0. 0. 1. 0. 0. 0.]\n",
            " [0. 0. 0. 0. 1. 0. 0. 0. 0. 0.]\n",
            " [0. 0. 0. 0. 0. 0. 0. 0. 1. 0.]\n",
            " [0. 0. 0. 0. 0. 0. 0. 1. 0. 0.]\n",
            " [1. 0. 0. 0. 0. 0. 0. 0. 0. 0.]\n",
            " [0. 0. 0. 0. 0. 1. 0. 0. 0. 0.]\n",
            " [0. 1. 0. 0. 0. 0. 0. 0. 0. 0.]\n",
            " [1. 0. 0. 0. 0. 0. 0. 0. 0. 0.]\n",
            " [0. 0. 0. 0. 0. 0. 0. 0. 0. 1.]\n",
            " [0. 0. 0. 0. 0. 0. 1. 0. 0. 0.]\n",
            " [0. 0. 0. 0. 0. 0. 0. 1. 0. 0.]\n",
            " [0. 0. 0. 0. 0. 0. 0. 0. 0. 1.]\n",
            " [0. 0. 0. 0. 0. 1. 0. 0. 0. 0.]\n",
            " [0. 0. 1. 0. 0. 0. 0. 0. 0. 0.]\n",
            " [0. 0. 0. 1. 0. 0. 0. 0. 0. 0.]\n",
            " [0. 0. 1. 0. 0. 0. 0. 0. 0. 0.]\n",
            " [0. 0. 0. 0. 1. 0. 0. 0. 0. 0.]\n",
            " [0. 0. 0. 0. 1. 0. 0. 0. 0. 0.]\n",
            " [0. 0. 0. 0. 0. 0. 1. 0. 0. 0.]\n",
            " [0. 0. 0. 0. 0. 1. 0. 0. 0. 0.]\n",
            " [0. 1. 0. 0. 0. 0. 0. 0. 0. 0.]\n",
            " [0. 1. 0. 0. 0. 0. 0. 0. 0. 0.]\n",
            " [0. 0. 0. 0. 0. 0. 0. 1. 0. 0.]\n",
            " [0. 0. 0. 0. 0. 0. 0. 0. 1. 0.]\n",
            " [0. 0. 0. 1. 0. 0. 0. 0. 0. 0.]\n",
            " [0. 0. 0. 1. 0. 0. 0. 0. 0. 0.]\n",
            " [0. 0. 0. 0. 0. 0. 0. 0. 1. 0.]], shape=(32, 10), dtype=float32)\n"
          ]
        }
      ]
    },
    {
      "cell_type": "code",
      "source": [],
      "metadata": {
        "id": "DHkHwBkQYZaE"
      },
      "execution_count": null,
      "outputs": []
    },
    {
      "cell_type": "code",
      "source": [],
      "metadata": {
        "id": "Q4mtKY0OYZcN"
      },
      "execution_count": null,
      "outputs": []
    },
    {
      "cell_type": "code",
      "source": [],
      "metadata": {
        "id": "WV7mC-rZYZeX"
      },
      "execution_count": null,
      "outputs": []
    },
    {
      "cell_type": "code",
      "source": [],
      "metadata": {
        "id": "QpiqimufYZf-"
      },
      "execution_count": null,
      "outputs": []
    },
    {
      "cell_type": "code",
      "source": [],
      "metadata": {
        "id": "nEN2Vms6YZjN"
      },
      "execution_count": null,
      "outputs": []
    },
    {
      "cell_type": "code",
      "source": [],
      "metadata": {
        "id": "LlMWW6RcYZkX"
      },
      "execution_count": null,
      "outputs": []
    },
    {
      "cell_type": "code",
      "source": [],
      "metadata": {
        "id": "0O6j2ojyYZl3"
      },
      "execution_count": null,
      "outputs": []
    },
    {
      "cell_type": "code",
      "source": [],
      "metadata": {
        "id": "Q-tZh7lgYZnu"
      },
      "execution_count": null,
      "outputs": []
    }
  ]
}