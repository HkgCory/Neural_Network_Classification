{
 "cells": [
  {
   "cell_type": "markdown",
   "source": [
    "# Feature Extraction\n",
    "\n",
    "1. Can leverage an existing neural network architecture proven to work on problems similar to our own.\n",
    "2. Can leverage a working neural network architecture which has already learned patterns on similar data to our own, then we can adapt those patterns to our own data\n",
    "\n"
   ],
   "metadata": {
    "collapsed": false
   }
  },
  {
   "cell_type": "code",
   "execution_count": null,
   "outputs": [],
   "source": [
    "# data link - https://storage.googleapis.com/ztm_tf_course/food_vision/10_food_classes_10_percent.zip"
   ],
   "metadata": {
    "collapsed": false
   }
  },
  {
   "cell_type": "code",
   "execution_count": 17,
   "outputs": [],
   "source": [
    "import tensorflow as tf\n",
    "import numpy as np\n",
    "import matplotlib.pyplot as plt\n",
    "import pandas as pd\n",
    "import seaborn as sns\n",
    "from sklearn.model_selection import train_test_split\n",
    "import os"
   ],
   "metadata": {
    "collapsed": false,
    "ExecuteTime": {
     "start_time": "2023-04-09T14:16:50.934107Z",
     "end_time": "2023-04-09T14:16:51.527703Z"
    }
   }
  },
  {
   "cell_type": "code",
   "execution_count": 2,
   "outputs": [
    {
     "name": "stdout",
     "output_type": "stream",
     "text": [
      "There are 2 directories and 0 images in \"../../Dataset/10_food_classes_10_percent/\".\n",
      "There are 10 directories and 0 images in \"../../Dataset/10_food_classes_10_percent/test\".\n",
      "There are 0 directories and 250 images in \"../../Dataset/10_food_classes_10_percent/test/ice_cream\".\n",
      "There are 0 directories and 250 images in \"../../Dataset/10_food_classes_10_percent/test/chicken_curry\".\n",
      "There are 0 directories and 250 images in \"../../Dataset/10_food_classes_10_percent/test/steak\".\n",
      "There are 0 directories and 250 images in \"../../Dataset/10_food_classes_10_percent/test/sushi\".\n",
      "There are 0 directories and 250 images in \"../../Dataset/10_food_classes_10_percent/test/chicken_wings\".\n",
      "There are 0 directories and 250 images in \"../../Dataset/10_food_classes_10_percent/test/grilled_salmon\".\n",
      "There are 0 directories and 250 images in \"../../Dataset/10_food_classes_10_percent/test/hamburger\".\n",
      "There are 0 directories and 250 images in \"../../Dataset/10_food_classes_10_percent/test/pizza\".\n",
      "There are 0 directories and 250 images in \"../../Dataset/10_food_classes_10_percent/test/ramen\".\n",
      "There are 0 directories and 250 images in \"../../Dataset/10_food_classes_10_percent/test/fried_rice\".\n",
      "There are 10 directories and 0 images in \"../../Dataset/10_food_classes_10_percent/train\".\n",
      "There are 0 directories and 75 images in \"../../Dataset/10_food_classes_10_percent/train/ice_cream\".\n",
      "There are 0 directories and 75 images in \"../../Dataset/10_food_classes_10_percent/train/chicken_curry\".\n",
      "There are 0 directories and 75 images in \"../../Dataset/10_food_classes_10_percent/train/steak\".\n",
      "There are 0 directories and 75 images in \"../../Dataset/10_food_classes_10_percent/train/sushi\".\n",
      "There are 0 directories and 75 images in \"../../Dataset/10_food_classes_10_percent/train/chicken_wings\".\n",
      "There are 0 directories and 75 images in \"../../Dataset/10_food_classes_10_percent/train/grilled_salmon\".\n",
      "There are 0 directories and 75 images in \"../../Dataset/10_food_classes_10_percent/train/hamburger\".\n",
      "There are 0 directories and 75 images in \"../../Dataset/10_food_classes_10_percent/train/pizza\".\n",
      "There are 0 directories and 75 images in \"../../Dataset/10_food_classes_10_percent/train/ramen\".\n",
      "There are 0 directories and 75 images in \"../../Dataset/10_food_classes_10_percent/train/fried_rice\".\n"
     ]
    }
   ],
   "source": [
    "import os\n",
    "for dirpath, dirnames, filenames in os.walk('../../Dataset/10_food_classes_10_percent/'):\n",
    "    print(f'There are {len(dirnames)} directories and {len(filenames)} images in \"{dirpath}\".')"
   ],
   "metadata": {
    "collapsed": false,
    "ExecuteTime": {
     "start_time": "2023-04-08T15:37:22.642180Z",
     "end_time": "2023-04-08T15:37:22.647268Z"
    }
   }
  },
  {
   "cell_type": "code",
   "execution_count": 5,
   "outputs": [
    {
     "name": "stdout",
     "output_type": "stream",
     "text": [
      "Training Images:\n",
      "Found 750 images belonging to 10 classes.\n",
      "Testing Images:\n",
      "Found 2500 images belonging to 10 classes.\n"
     ]
    }
   ],
   "source": [
    "from tensorflow.keras.preprocessing.image import ImageDataGenerator\n",
    "\n",
    "IMAGE_SHAPE = (224, 224)\n",
    "BATCH_SIZE = 32\n",
    "\n",
    "train_dir = '../../Dataset/10_food_classes_10_percent/train/'\n",
    "test_dir = '../../Dataset/10_food_classes_10_percent/test/'\n",
    "\n",
    "train_datagen = ImageDataGenerator(rescale=1/255.)\n",
    "test_datagen = ImageDataGenerator(rescale=1/255.)\n",
    "\n",
    "print('Training Images:')\n",
    "train_data_10_percent = train_datagen.flow_from_directory(train_dir,\n",
    "                                                         target_size=IMAGE_SHAPE,\n",
    "                                                         batch_size=BATCH_SIZE,\n",
    "                                                         class_mode='categorical')\n",
    "\n",
    "print('Testing Images:')\n",
    "test_data = test_datagen.flow_from_directory(test_dir,\n",
    "                                             target_size=IMAGE_SHAPE,\n",
    "                                             batch_size=BATCH_SIZE,\n",
    "                                             class_mode='categorical')"
   ],
   "metadata": {
    "collapsed": false,
    "ExecuteTime": {
     "start_time": "2023-04-08T15:45:02.127842Z",
     "end_time": "2023-04-08T15:45:02.234743Z"
    }
   }
  },
  {
   "cell_type": "code",
   "execution_count": 7,
   "outputs": [],
   "source": [
    "import datetime\n",
    "\n",
    "def create_tensorboard_callback(dir_name, experiment_name):\n",
    "    log_dir = dir_name + '/' + experiment_name + '/' + datetime.datetime.now().strftime('%Y%m%d-%H%M%S')\n",
    "    tensorboard_callback = tf.keras.callbacks.TensorBoard(log_dir=log_dir)\n",
    "    print(f'Saving TensorBoard log files to: {log_dir}')\n",
    "    return tensorboard_callback"
   ],
   "metadata": {
    "collapsed": false,
    "ExecuteTime": {
     "start_time": "2023-04-08T17:58:22.227164Z",
     "end_time": "2023-04-08T17:58:22.244707Z"
    }
   }
  },
  {
   "cell_type": "code",
   "execution_count": null,
   "outputs": [],
   "source": [
    "import tensorflow_hub as hub\n",
    "\n",
    "model = hub.KerasLayer(\"https://tfhub.dev/google/nnlm-en-dim128/2\")\n",
    "embeddings = model([\"The rain in Spain.\", \"falls\",\n",
    "                    \"mainly\", \"In the plain!\"])\n",
    "\n",
    "print(embeddings.shape)  #(4,128)"
   ],
   "metadata": {
    "collapsed": false
   }
  },
  {
   "cell_type": "code",
   "execution_count": 8,
   "outputs": [],
   "source": [
    "resnet_url = 'https://tfhub.dev/google/imagenet/resnet_v2_50/feature_vector/4'\n",
    "efficientnet_url = 'https://tfhub.dev/tensorflow/efficientnet/b0/feature-vector/1'"
   ],
   "metadata": {
    "collapsed": false,
    "ExecuteTime": {
     "start_time": "2023-04-08T21:30:11.666197Z",
     "end_time": "2023-04-08T21:30:11.668389Z"
    }
   }
  },
  {
   "cell_type": "code",
   "execution_count": 9,
   "outputs": [],
   "source": [
    "import tensorflow as tf\n",
    "import tensorflow_hub as hub\n",
    "from tensorflow.keras import layers\n"
   ],
   "metadata": {
    "collapsed": false,
    "ExecuteTime": {
     "start_time": "2023-04-08T21:32:49.634036Z",
     "end_time": "2023-04-08T21:32:49.832356Z"
    }
   }
  },
  {
   "cell_type": "code",
   "execution_count": 10,
   "outputs": [],
   "source": [
    "def create_model(model_url, num_classes=10):\n",
    "    \"\"\"\n",
    "    Takes a TensorFlow Hub URL and creates a Keras Sequential model with it.\n",
    "\n",
    "    Args:\n",
    "        model_url (str): A TensorFlow Hub feature extraction URL.\n",
    "        num_classes (int): Number of output neurons in the output layer,\n",
    "            should be equal to number of target classes, default 10.\n",
    "\n",
    "    Returns:\n",
    "        An uncompiled Keras Sequential model with model_url as feature extractor\n",
    "        layer and Dense output layer with num_classes output neurons.\n",
    "    \"\"\"\n",
    "    # Download the pretrained model and save it as a Keras layer\n",
    "    feature_extractor_layer = hub.KerasLayer(model_url,\n",
    "                                             trainable=False, # freeze the already learned patterns\n",
    "                                             name='feature_extraction_layer',\n",
    "                                             input_shape=IMAGE_SHAPE+(3,)) # 3 for color channels\n",
    "\n",
    "    # Create our own model\n",
    "    model = tf.keras.Sequential([\n",
    "        feature_extractor_layer,\n",
    "        layers.Dense(num_classes, activation='softmax', name='output_layer')\n",
    "    ])\n",
    "\n",
    "    return model"
   ],
   "metadata": {
    "collapsed": false,
    "ExecuteTime": {
     "start_time": "2023-04-08T21:45:45.750436Z",
     "end_time": "2023-04-08T21:45:45.756082Z"
    }
   }
  },
  {
   "cell_type": "code",
   "execution_count": 11,
   "outputs": [
    {
     "name": "stdout",
     "output_type": "stream",
     "text": [
      "WARNING:tensorflow:Please fix your imports. Module tensorflow.python.training.tracking.data_structures has been moved to tensorflow.python.trackable.data_structures. The old module will be deleted in version 2.11.\n"
     ]
    }
   ],
   "source": [
    "resnet_model = create_model(resnet_url,\n",
    "                            num_classes=train_data_10_percent.num_classes)"
   ],
   "metadata": {
    "collapsed": false,
    "ExecuteTime": {
     "start_time": "2023-04-08T21:48:53.252229Z",
     "end_time": "2023-04-08T21:48:57.993310Z"
    }
   }
  },
  {
   "cell_type": "code",
   "execution_count": 12,
   "outputs": [
    {
     "data": {
      "text/plain": "10"
     },
     "execution_count": 12,
     "metadata": {},
     "output_type": "execute_result"
    }
   ],
   "source": [
    "train_data_10_percent.num_classes"
   ],
   "metadata": {
    "collapsed": false,
    "ExecuteTime": {
     "start_time": "2023-04-08T21:49:14.176297Z",
     "end_time": "2023-04-08T21:49:14.181601Z"
    }
   }
  },
  {
   "cell_type": "code",
   "execution_count": 14,
   "outputs": [],
   "source": [
    "resnet_model.compile(loss='categorical_crossentropy',\n",
    "                     optimizer=tf.keras.optimizers.Adam(),\n",
    "                     metrics=['accuracy'])"
   ],
   "metadata": {
    "collapsed": false,
    "ExecuteTime": {
     "start_time": "2023-04-08T22:00:40.901068Z",
     "end_time": "2023-04-08T22:00:40.905209Z"
    }
   }
  },
  {
   "cell_type": "code",
   "execution_count": null,
   "outputs": [],
   "source": [],
   "metadata": {
    "collapsed": false
   }
  },
  {
   "cell_type": "code",
   "execution_count": 15,
   "outputs": [
    {
     "name": "stdout",
     "output_type": "stream",
     "text": [
      "Model: \"sequential\"\n",
      "_________________________________________________________________\n",
      " Layer (type)                Output Shape              Param #   \n",
      "=================================================================\n",
      " feature_extraction_layer (K  (None, 2048)             23564800  \n",
      " erasLayer)                                                      \n",
      "                                                                 \n",
      " output_layer (Dense)        (None, 10)                20490     \n",
      "                                                                 \n",
      "=================================================================\n",
      "Total params: 23,585,290\n",
      "Trainable params: 20,490\n",
      "Non-trainable params: 23,564,800\n",
      "_________________________________________________________________\n"
     ]
    }
   ],
   "source": [
    "resnet_model.summary()"
   ],
   "metadata": {
    "collapsed": false,
    "ExecuteTime": {
     "start_time": "2023-04-08T22:03:19.360054Z",
     "end_time": "2023-04-08T22:03:19.379437Z"
    }
   }
  },
  {
   "cell_type": "code",
   "execution_count": 16,
   "outputs": [
    {
     "name": "stdout",
     "output_type": "stream",
     "text": [
      "Saving TensorBoard log files to: tensorflow_hub/resnet50v2/20230408-220335\n",
      "Epoch 1/5\n"
     ]
    },
    {
     "name": "stderr",
     "output_type": "stream",
     "text": [
      "2023-04-08 22:03:36.100987: W tensorflow/core/platform/profile_utils/cpu_utils.cc:128] Failed to get CPU frequency: 0 Hz\n"
     ]
    },
    {
     "name": "stdout",
     "output_type": "stream",
     "text": [
      "24/24 [==============================] - 47s 2s/step - loss: 1.9498 - accuracy: 0.3347 - val_loss: 1.1841 - val_accuracy: 0.6365\n",
      "Epoch 2/5\n",
      "24/24 [==============================] - 52s 2s/step - loss: 0.9221 - accuracy: 0.7280 - val_loss: 0.8526 - val_accuracy: 0.7418\n",
      "Epoch 3/5\n",
      "24/24 [==============================] - 66s 3s/step - loss: 0.6390 - accuracy: 0.8147 - val_loss: 0.7455 - val_accuracy: 0.7615\n",
      "Epoch 4/5\n",
      "24/24 [==============================] - 53s 2s/step - loss: 0.4859 - accuracy: 0.8720 - val_loss: 0.7073 - val_accuracy: 0.7780\n",
      "Epoch 5/5\n",
      "24/24 [==============================] - 51s 2s/step - loss: 0.3889 - accuracy: 0.9107 - val_loss: 0.6518 - val_accuracy: 0.7961\n"
     ]
    }
   ],
   "source": [
    "resnet_history = resnet_model.fit(train_data_10_percent,\n",
    "                                  epochs=5,\n",
    "                                  steps_per_epoch=len(train_data_10_percent),\n",
    "                                  validation_data=test_data,\n",
    "                                  validation_steps=int(0.25 * len(test_data)),\n",
    "                                  callbacks=[create_tensorboard_callback(dir_name='tensorflow_hub',\n",
    "                                                                         experiment_name='resnet50v2')])"
   ],
   "metadata": {
    "collapsed": false,
    "ExecuteTime": {
     "start_time": "2023-04-08T22:03:35.931829Z",
     "end_time": "2023-04-08T22:08:05.189234Z"
    }
   }
  },
  {
   "cell_type": "markdown",
   "source": [],
   "metadata": {
    "collapsed": false
   }
  },
  {
   "cell_type": "code",
   "execution_count": 18,
   "outputs": [],
   "source": [
    "def plot_loss(history):\n",
    "    loss = history.history['loss']\n",
    "    val_loss = history.history['val_loss']\n",
    "\n",
    "    accuracy = history.history['accuracy']\n",
    "    val_accuracy = history.history['val_accuracy']\n",
    "\n",
    "    epochs = range(len(history.history['loss']))\n",
    "\n",
    "    plt.plot(epochs, loss, label='training_loss')\n",
    "    plt.plot(epochs, val_loss, label='val_loss')\n",
    "    plt.title('loss')\n",
    "    plt.xlabel('epochs')\n",
    "    plt.legend()\n",
    "\n",
    "    plt.figure()\n",
    "    plt.plot(epochs, accuracy, label='training_accuracy')\n",
    "    plt.plot(epochs, val_accuracy, label='val_accuracy')\n",
    "    plt.title('accuracy')\n",
    "    plt.xlabel('epochs')\n",
    "    plt.legend()\n"
   ],
   "metadata": {
    "collapsed": false,
    "ExecuteTime": {
     "start_time": "2023-04-09T14:18:53.191389Z",
     "end_time": "2023-04-09T14:18:53.194319Z"
    }
   }
  },
  {
   "cell_type": "code",
   "execution_count": 19,
   "outputs": [
    {
     "data": {
      "text/plain": "<Figure size 640x480 with 1 Axes>",
      "image/png": "[encoded data removed]"
     },
     "metadata": {},
     "output_type": "display_data"
    },
    {
     "data": {
      "text/plain": "<Figure size 640x480 with 1 Axes>",
      "image/png": "[encoded data removed]"
     },
     "metadata": {},
     "output_type": "display_data"
    }
   ],
   "source": [
    "plot_loss(resnet_history)"
   ],
   "metadata": {
    "collapsed": false,
    "ExecuteTime": {
     "start_time": "2023-04-09T14:18:58.770587Z",
     "end_time": "2023-04-09T14:18:59.317138Z"
    }
   }
  },
  {
   "cell_type": "code",
   "execution_count": null,
   "outputs": [],
   "source": [],
   "metadata": {
    "collapsed": false
   }
  },
  {
   "cell_type": "code",
   "execution_count": null,
   "outputs": [],
   "source": [],
   "metadata": {
    "collapsed": false
   }
  },
  {
   "cell_type": "code",
   "execution_count": null,
   "outputs": [],
   "source": [],
   "metadata": {
    "collapsed": false
   }
  },
  {
   "cell_type": "code",
   "execution_count": null,
   "outputs": [],
   "source": [],
   "metadata": {
    "collapsed": false
   }
  },
  {
   "cell_type": "code",
   "execution_count": null,
   "outputs": [],
   "source": [],
   "metadata": {
    "collapsed": false
   }
  },
  {
   "cell_type": "code",
   "execution_count": null,
   "outputs": [],
   "source": [],
   "metadata": {
    "collapsed": false
   }
  },
  {
   "cell_type": "code",
   "execution_count": null,
   "outputs": [],
   "source": [],
   "metadata": {
    "collapsed": false
   }
  },
  {
   "cell_type": "code",
   "execution_count": null,
   "outputs": [],
   "source": [],
   "metadata": {
    "collapsed": false
   }
  },
  {
   "cell_type": "code",
   "execution_count": null,
   "outputs": [],
   "source": [],
   "metadata": {
    "collapsed": false
   }
  },
  {
   "cell_type": "code",
   "execution_count": null,
   "outputs": [],
   "source": [],
   "metadata": {
    "collapsed": false
   }
  },
  {
   "cell_type": "code",
   "execution_count": null,
   "outputs": [],
   "source": [],
   "metadata": {
    "collapsed": false
   }
  },
  {
   "cell_type": "code",
   "execution_count": null,
   "outputs": [],
   "source": [],
   "metadata": {
    "collapsed": false
   }
  },
  {
   "cell_type": "code",
   "execution_count": null,
   "outputs": [],
   "source": [],
   "metadata": {
    "collapsed": false
   }
  },
  {
   "cell_type": "code",
   "execution_count": null,
   "outputs": [],
   "source": [],
   "metadata": {
    "collapsed": false
   }
  },
  {
   "cell_type": "code",
   "execution_count": null,
   "outputs": [],
   "source": [],
   "metadata": {
    "collapsed": false
   }
  },
  {
   "cell_type": "code",
   "execution_count": null,
   "outputs": [],
   "source": [],
   "metadata": {
    "collapsed": false
   }
  }
 ],
 "metadata": {
  "kernelspec": {
   "display_name": "Python 3",
   "language": "python",
   "name": "python3"
  },
  "language_info": {
   "codemirror_mode": {
    "name": "ipython",
    "version": 2
   },
   "file_extension": ".py",
   "mimetype": "text/x-python",
   "name": "python",
   "nbconvert_exporter": "python",
   "pygments_lexer": "ipython2",
   "version": "2.7.6"
  }
 },
 "nbformat": 4,
 "nbformat_minor": 0
}
