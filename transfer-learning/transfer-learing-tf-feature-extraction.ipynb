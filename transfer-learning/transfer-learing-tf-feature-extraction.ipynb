{
 "cells": [
  {
   "cell_type": "markdown",
   "source": [
    "# Feature Extraction\n",
    "\n",
    "1. Can leverage an existing neural network architecture proven to work on problems similar to our own.\n",
    "2. Can leverage a working neural network architecture which has already learned patterns on similar data to our own, then we can adapt those patterns to our own data\n",
    "\n"
   ],
   "metadata": {
    "collapsed": false
   }
  },
  {
   "cell_type": "code",
   "execution_count": null,
   "outputs": [],
   "source": [
    "# data link - https://storage.googleapis.com/ztm_tf_course/food_vision/10_food_classes_10_percent.zip"
   ],
   "metadata": {
    "collapsed": false
   }
  },
  {
   "cell_type": "code",
   "execution_count": 2,
   "outputs": [
    {
     "name": "stdout",
     "output_type": "stream",
     "text": [
      "There are 2 directories and 0 images in \"../../Dataset/10_food_classes_10_percent/\".\n",
      "There are 10 directories and 0 images in \"../../Dataset/10_food_classes_10_percent/test\".\n",
      "There are 0 directories and 250 images in \"../../Dataset/10_food_classes_10_percent/test/ice_cream\".\n",
      "There are 0 directories and 250 images in \"../../Dataset/10_food_classes_10_percent/test/chicken_curry\".\n",
      "There are 0 directories and 250 images in \"../../Dataset/10_food_classes_10_percent/test/steak\".\n",
      "There are 0 directories and 250 images in \"../../Dataset/10_food_classes_10_percent/test/sushi\".\n",
      "There are 0 directories and 250 images in \"../../Dataset/10_food_classes_10_percent/test/chicken_wings\".\n",
      "There are 0 directories and 250 images in \"../../Dataset/10_food_classes_10_percent/test/grilled_salmon\".\n",
      "There are 0 directories and 250 images in \"../../Dataset/10_food_classes_10_percent/test/hamburger\".\n",
      "There are 0 directories and 250 images in \"../../Dataset/10_food_classes_10_percent/test/pizza\".\n",
      "There are 0 directories and 250 images in \"../../Dataset/10_food_classes_10_percent/test/ramen\".\n",
      "There are 0 directories and 250 images in \"../../Dataset/10_food_classes_10_percent/test/fried_rice\".\n",
      "There are 10 directories and 0 images in \"../../Dataset/10_food_classes_10_percent/train\".\n",
      "There are 0 directories and 75 images in \"../../Dataset/10_food_classes_10_percent/train/ice_cream\".\n",
      "There are 0 directories and 75 images in \"../../Dataset/10_food_classes_10_percent/train/chicken_curry\".\n",
      "There are 0 directories and 75 images in \"../../Dataset/10_food_classes_10_percent/train/steak\".\n",
      "There are 0 directories and 75 images in \"../../Dataset/10_food_classes_10_percent/train/sushi\".\n",
      "There are 0 directories and 75 images in \"../../Dataset/10_food_classes_10_percent/train/chicken_wings\".\n",
      "There are 0 directories and 75 images in \"../../Dataset/10_food_classes_10_percent/train/grilled_salmon\".\n",
      "There are 0 directories and 75 images in \"../../Dataset/10_food_classes_10_percent/train/hamburger\".\n",
      "There are 0 directories and 75 images in \"../../Dataset/10_food_classes_10_percent/train/pizza\".\n",
      "There are 0 directories and 75 images in \"../../Dataset/10_food_classes_10_percent/train/ramen\".\n",
      "There are 0 directories and 75 images in \"../../Dataset/10_food_classes_10_percent/train/fried_rice\".\n"
     ]
    }
   ],
   "source": [
    "import os\n",
    "for dirpath, dirnames, filenames in os.walk('../../Dataset/10_food_classes_10_percent/'):\n",
    "    print(f'There are {len(dirnames)} directories and {len(filenames)} images in \"{dirpath}\".')"
   ],
   "metadata": {
    "collapsed": false,
    "ExecuteTime": {
     "start_time": "2023-04-08T15:37:22.642180Z",
     "end_time": "2023-04-08T15:37:22.647268Z"
    }
   }
  },
  {
   "cell_type": "code",
   "execution_count": 10,
   "outputs": [
    {
     "name": "stdout",
     "output_type": "stream",
     "text": [
      "1\n"
     ]
    }
   ],
   "source": [],
   "metadata": {
    "collapsed": false,
    "ExecuteTime": {
     "start_time": "2023-04-08T15:32:54.708855Z",
     "end_time": "2023-04-08T15:32:54.714554Z"
    }
   }
  },
  {
   "cell_type": "code",
   "execution_count": null,
   "outputs": [],
   "source": [],
   "metadata": {
    "collapsed": false
   }
  },
  {
   "cell_type": "code",
   "execution_count": null,
   "outputs": [],
   "source": [],
   "metadata": {
    "collapsed": false
   }
  },
  {
   "cell_type": "code",
   "execution_count": null,
   "outputs": [],
   "source": [],
   "metadata": {
    "collapsed": false
   }
  },
  {
   "cell_type": "code",
   "execution_count": null,
   "outputs": [],
   "source": [],
   "metadata": {
    "collapsed": false
   }
  },
  {
   "cell_type": "code",
   "execution_count": null,
   "outputs": [],
   "source": [],
   "metadata": {
    "collapsed": false
   }
  },
  {
   "cell_type": "code",
   "execution_count": null,
   "outputs": [],
   "source": [],
   "metadata": {
    "collapsed": false
   }
  },
  {
   "cell_type": "code",
   "execution_count": null,
   "outputs": [],
   "source": [],
   "metadata": {
    "collapsed": false
   }
  },
  {
   "cell_type": "code",
   "execution_count": null,
   "outputs": [],
   "source": [],
   "metadata": {
    "collapsed": false
   }
  },
  {
   "cell_type": "code",
   "execution_count": null,
   "outputs": [],
   "source": [],
   "metadata": {
    "collapsed": false
   }
  },
  {
   "cell_type": "code",
   "execution_count": null,
   "outputs": [],
   "source": [],
   "metadata": {
    "collapsed": false
   }
  },
  {
   "cell_type": "code",
   "execution_count": null,
   "outputs": [],
   "source": [],
   "metadata": {
    "collapsed": false
   }
  },
  {
   "cell_type": "code",
   "execution_count": null,
   "outputs": [],
   "source": [],
   "metadata": {
    "collapsed": false
   }
  },
  {
   "cell_type": "code",
   "execution_count": null,
   "outputs": [],
   "source": [],
   "metadata": {
    "collapsed": false
   }
  },
  {
   "cell_type": "code",
   "execution_count": null,
   "outputs": [],
   "source": [],
   "metadata": {
    "collapsed": false
   }
  },
  {
   "cell_type": "code",
   "execution_count": null,
   "outputs": [],
   "source": [],
   "metadata": {
    "collapsed": false
   }
  },
  {
   "cell_type": "code",
   "execution_count": null,
   "outputs": [],
   "source": [],
   "metadata": {
    "collapsed": false
   }
  },
  {
   "cell_type": "code",
   "execution_count": null,
   "outputs": [],
   "source": [],
   "metadata": {
    "collapsed": false
   }
  }
 ],
 "metadata": {
  "kernelspec": {
   "display_name": "Python 3",
   "language": "python",
   "name": "python3"
  },
  "language_info": {
   "codemirror_mode": {
    "name": "ipython",
    "version": 2
   },
   "file_extension": ".py",
   "mimetype": "text/x-python",
   "name": "python",
   "nbconvert_exporter": "python",
   "pygments_lexer": "ipython2",
   "version": "2.7.6"
  }
 },
 "nbformat": 4,
 "nbformat_minor": 0
}
