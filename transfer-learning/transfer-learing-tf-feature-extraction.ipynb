{
 "cells": [
  {
   "cell_type": "markdown",
   "source": [
    "# Feature Extraction\n",
    "\n",
    "1. Can leverage an existing neural network architecture proven to work on problems similar to our own.\n",
    "2. Can leverage a working neural network architecture which has already learned patterns on similar data to our own, then we can adapt those patterns to our own data\n",
    "\n"
   ],
   "metadata": {
    "collapsed": false
   }
  },
  {
   "cell_type": "code",
   "execution_count": null,
   "outputs": [],
   "source": [
    "# data link - https://storage.googleapis.com/ztm_tf_course/food_vision/10_food_classes_10_percent.zip"
   ],
   "metadata": {
    "collapsed": false
   }
  },
  {
   "cell_type": "code",
   "execution_count": 2,
   "outputs": [
    {
     "name": "stdout",
     "output_type": "stream",
     "text": [
      "There are 2 directories and 0 images in \"../../Dataset/10_food_classes_10_percent/\".\n",
      "There are 10 directories and 0 images in \"../../Dataset/10_food_classes_10_percent/test\".\n",
      "There are 0 directories and 250 images in \"../../Dataset/10_food_classes_10_percent/test/ice_cream\".\n",
      "There are 0 directories and 250 images in \"../../Dataset/10_food_classes_10_percent/test/chicken_curry\".\n",
      "There are 0 directories and 250 images in \"../../Dataset/10_food_classes_10_percent/test/steak\".\n",
      "There are 0 directories and 250 images in \"../../Dataset/10_food_classes_10_percent/test/sushi\".\n",
      "There are 0 directories and 250 images in \"../../Dataset/10_food_classes_10_percent/test/chicken_wings\".\n",
      "There are 0 directories and 250 images in \"../../Dataset/10_food_classes_10_percent/test/grilled_salmon\".\n",
      "There are 0 directories and 250 images in \"../../Dataset/10_food_classes_10_percent/test/hamburger\".\n",
      "There are 0 directories and 250 images in \"../../Dataset/10_food_classes_10_percent/test/pizza\".\n",
      "There are 0 directories and 250 images in \"../../Dataset/10_food_classes_10_percent/test/ramen\".\n",
      "There are 0 directories and 250 images in \"../../Dataset/10_food_classes_10_percent/test/fried_rice\".\n",
      "There are 10 directories and 0 images in \"../../Dataset/10_food_classes_10_percent/train\".\n",
      "There are 0 directories and 75 images in \"../../Dataset/10_food_classes_10_percent/train/ice_cream\".\n",
      "There are 0 directories and 75 images in \"../../Dataset/10_food_classes_10_percent/train/chicken_curry\".\n",
      "There are 0 directories and 75 images in \"../../Dataset/10_food_classes_10_percent/train/steak\".\n",
      "There are 0 directories and 75 images in \"../../Dataset/10_food_classes_10_percent/train/sushi\".\n",
      "There are 0 directories and 75 images in \"../../Dataset/10_food_classes_10_percent/train/chicken_wings\".\n",
      "There are 0 directories and 75 images in \"../../Dataset/10_food_classes_10_percent/train/grilled_salmon\".\n",
      "There are 0 directories and 75 images in \"../../Dataset/10_food_classes_10_percent/train/hamburger\".\n",
      "There are 0 directories and 75 images in \"../../Dataset/10_food_classes_10_percent/train/pizza\".\n",
      "There are 0 directories and 75 images in \"../../Dataset/10_food_classes_10_percent/train/ramen\".\n",
      "There are 0 directories and 75 images in \"../../Dataset/10_food_classes_10_percent/train/fried_rice\".\n"
     ]
    }
   ],
   "source": [
    "import os\n",
    "for dirpath, dirnames, filenames in os.walk('../../Dataset/10_food_classes_10_percent/'):\n",
    "    print(f'There are {len(dirnames)} directories and {len(filenames)} images in \"{dirpath}\".')"
   ],
   "metadata": {
    "collapsed": false,
    "ExecuteTime": {
     "start_time": "2023-04-08T15:37:22.642180Z",
     "end_time": "2023-04-08T15:37:22.647268Z"
    }
   }
  },
  {
   "cell_type": "code",
   "execution_count": 5,
   "outputs": [
    {
     "name": "stdout",
     "output_type": "stream",
     "text": [
      "Training Images:\n",
      "Found 750 images belonging to 10 classes.\n",
      "Testing Images:\n",
      "Found 2500 images belonging to 10 classes.\n"
     ]
    }
   ],
   "source": [
    "from tensorflow.keras.preprocessing.image import ImageDataGenerator\n",
    "\n",
    "IMAGE_SHAPE = (224, 224)\n",
    "BATCH_SIZE = 32\n",
    "\n",
    "train_dir = '../../Dataset/10_food_classes_10_percent/train/'\n",
    "test_dir = '../../Dataset/10_food_classes_10_percent/test/'\n",
    "\n",
    "train_datagen = ImageDataGenerator(rescale=1/255.)\n",
    "test_datagen = ImageDataGenerator(rescale=1/255.)\n",
    "\n",
    "print('Training Images:')\n",
    "train_data_10_percent = train_datagen.flow_from_directory(train_dir,\n",
    "                                                         target_size=IMAGE_SHAPE,\n",
    "                                                         batch_size=BATCH_SIZE,\n",
    "                                                         class_mode='categorical')\n",
    "\n",
    "print('Testing Images:')\n",
    "test_data = test_datagen.flow_from_directory(test_dir,\n",
    "                                             target_size=IMAGE_SHAPE,\n",
    "                                             batch_size=BATCH_SIZE,\n",
    "                                             class_mode='categorical')"
   ],
   "metadata": {
    "collapsed": false,
    "ExecuteTime": {
     "start_time": "2023-04-08T15:45:02.127842Z",
     "end_time": "2023-04-08T15:45:02.234743Z"
    }
   }
  },
  {
   "cell_type": "code",
   "execution_count": 7,
   "outputs": [],
   "source": [
    "import datetime\n",
    "\n",
    "def create_tensorboard_callback(dir_name, experiment_name):\n",
    "    log_dir = dir_name + '/' + experiment_name + '/' + datetime.datetime.now().strftime('%Y%m%d-%H%M%S')\n",
    "    tensorboard_callback = tf.keras.callbacks.TensorBoard(log_dir=log_dir)\n",
    "    print(f'Saving TensorBoard log files to: {log_dir}')\n",
    "    return tensorboard_callback"
   ],
   "metadata": {
    "collapsed": false,
    "ExecuteTime": {
     "start_time": "2023-04-08T17:58:22.227164Z",
     "end_time": "2023-04-08T17:58:22.244707Z"
    }
   }
  },
  {
   "cell_type": "code",
   "execution_count": null,
   "outputs": [],
   "source": [
    "import tensorflow_hub as hub\n",
    "\n",
    "model = hub.KerasLayer(\"https://tfhub.dev/google/nnlm-en-dim128/2\")\n",
    "embeddings = model([\"The rain in Spain.\", \"falls\",\n",
    "                    \"mainly\", \"In the plain!\"])\n",
    "\n",
    "print(embeddings.shape)  #(4,128)"
   ],
   "metadata": {
    "collapsed": false
   }
  },
  {
   "cell_type": "code",
   "execution_count": null,
   "outputs": [],
   "source": [],
   "metadata": {
    "collapsed": false
   }
  },
  {
   "cell_type": "code",
   "execution_count": null,
   "outputs": [],
   "source": [],
   "metadata": {
    "collapsed": false
   }
  },
  {
   "cell_type": "code",
   "execution_count": null,
   "outputs": [],
   "source": [],
   "metadata": {
    "collapsed": false
   }
  },
  {
   "cell_type": "code",
   "execution_count": null,
   "outputs": [],
   "source": [],
   "metadata": {
    "collapsed": false
   }
  },
  {
   "cell_type": "code",
   "execution_count": null,
   "outputs": [],
   "source": [],
   "metadata": {
    "collapsed": false
   }
  },
  {
   "cell_type": "code",
   "execution_count": null,
   "outputs": [],
   "source": [],
   "metadata": {
    "collapsed": false
   }
  },
  {
   "cell_type": "code",
   "execution_count": null,
   "outputs": [],
   "source": [],
   "metadata": {
    "collapsed": false
   }
  },
  {
   "cell_type": "code",
   "execution_count": null,
   "outputs": [],
   "source": [],
   "metadata": {
    "collapsed": false
   }
  },
  {
   "cell_type": "code",
   "execution_count": null,
   "outputs": [],
   "source": [],
   "metadata": {
    "collapsed": false
   }
  },
  {
   "cell_type": "code",
   "execution_count": null,
   "outputs": [],
   "source": [],
   "metadata": {
    "collapsed": false
   }
  },
  {
   "cell_type": "code",
   "execution_count": null,
   "outputs": [],
   "source": [],
   "metadata": {
    "collapsed": false
   }
  },
  {
   "cell_type": "code",
   "execution_count": null,
   "outputs": [],
   "source": [],
   "metadata": {
    "collapsed": false
   }
  },
  {
   "cell_type": "code",
   "execution_count": null,
   "outputs": [],
   "source": [],
   "metadata": {
    "collapsed": false
   }
  },
  {
   "cell_type": "code",
   "execution_count": null,
   "outputs": [],
   "source": [],
   "metadata": {
    "collapsed": false
   }
  },
  {
   "cell_type": "code",
   "execution_count": null,
   "outputs": [],
   "source": [],
   "metadata": {
    "collapsed": false
   }
  }
 ],
 "metadata": {
  "kernelspec": {
   "display_name": "Python 3",
   "language": "python",
   "name": "python3"
  },
  "language_info": {
   "codemirror_mode": {
    "name": "ipython",
    "version": 2
   },
   "file_extension": ".py",
   "mimetype": "text/x-python",
   "name": "python",
   "nbconvert_exporter": "python",
   "pygments_lexer": "ipython2",
   "version": "2.7.6"
  }
 },
 "nbformat": 4,
 "nbformat_minor": 0
}
